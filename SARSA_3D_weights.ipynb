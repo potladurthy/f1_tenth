{
 "cells": [
  {
   "cell_type": "code",
   "execution_count": 1,
   "metadata": {},
   "outputs": [],
   "source": [
    "import numpy as np\n",
    "import gym\n",
    "import matplotlib.pyplot as plt\n",
    "from f110_gym.envs.base_classes import Integrator\n",
    "from collections import Counter,defaultdict\n",
    "import random\n",
    "import os\n",
    "import pickle\n",
    "import pandas as pd\n",
    "from collections import defaultdict,deque\n",
    "import math\n",
    "import cmath\n",
    "import scipy.stats as stats\n",
    "import time\n",
    "from sklearn.preprocessing import StandardScaler\n",
    "from sklearn.metrics.pairwise import cosine_similarity\n",
    "from scipy.stats import truncnorm\n",
    "from sklearn.preprocessing import normalize"
   ]
  },
  {
   "cell_type": "code",
   "execution_count": 2,
   "metadata": {},
   "outputs": [],
   "source": [
    "class Reward:\n",
    "    def __init__(self, min_speed=0.5, max_speed=1.8, map_centers=None):\n",
    "        self.min_speed = min_speed\n",
    "        self.max_speed = max_speed\n",
    "        self.map_centers = map_centers\n",
    "        self.initial_point = np.array([[0, 0]])\n",
    "\n",
    "        # Total track length\n",
    "        self.track_lengths = [np.linalg.norm(self.map_centers[i, :] - self.map_centers[i + 1, :]) for i in range(self.map_centers.shape[0] - 1)]\n",
    "        self.total_track_length = np.sum(self.track_lengths)\n",
    "\n",
    "        # Hyperparameters\n",
    "        self.track_width = 2.2\n",
    "        self.epsilon = 1e-5\n",
    "        self.distance_travelled = 0\n",
    "        self.distance_multiplication_factor = 50\n",
    "        self.distance_scaling_factor = 1.2\n",
    "        self.min_distance_from_center = 0\n",
    "        self.max_distance_from_center = 1\n",
    "        self.centering_reward_parameter = 0.6\n",
    "\n",
    "        self.min_distance = self.exponential_distance(self.min_distance_from_center)\n",
    "        self.max_distance = self.exponential_distance(self.max_distance_from_center)\n",
    "\n",
    "    def reset(self, point):\n",
    "        self.distance_travelled = 0\n",
    "        self.initial_point = point\n",
    "    \n",
    "    def exponential_distance(self, distance):\n",
    "        return self.distance_multiplication_factor * ((np.exp(-distance) / (2 - np.exp(-distance))) - self.centering_reward_parameter) + self.epsilon\n",
    "\n",
    "    def progress_reward(self, curr_position, next_position):\n",
    "        distance = np.linalg.norm(curr_position - next_position)\n",
    "        self.distance_travelled += distance\n",
    "        return self.distance_travelled / self.total_track_length\n",
    "\n",
    "    def calculate_distance_from_center(self, curr_x, curr_y):\n",
    "        distances = np.linalg.norm(self.map_centers - np.array([curr_x, curr_y]), axis=1)\n",
    "        return np.argmin(distances), distances[np.argmin(distances)]\n",
    "\n",
    "    def centering_reward(self, x, y):\n",
    "        _, distance = self.calculate_distance_from_center(x, y)\n",
    "        return self.distance_scaling_factor * self.exponential_distance(distance) / (self.min_distance - self.max_distance)\n",
    "\n",
    "    def calculate_reward(self, curr_state, next_state):\n",
    "        progress_reward = self.progress_reward(curr_state, next_state)\n",
    "        centering_reward = self.centering_reward(next_state[0], next_state[1])\n",
    "        # print(f\"Distance reward: {2*progress_reward}, Centering reward: {centering_reward}\")\n",
    "        return progress_reward + centering_reward"
   ]
  },
  {
   "cell_type": "code",
   "execution_count": 3,
   "metadata": {},
   "outputs": [],
   "source": [
    "class IndexSelector:\n",
    "    def __init__(self, num_indices):\n",
    "        self.num_indices = num_indices\n",
    "        self.visited_indices = set()\n",
    "        self.probabilities = np.ones(num_indices) / num_indices\n",
    "\n",
    "    def select_index(self):\n",
    "        if len(self.visited_indices) == self.num_indices:\n",
    "            # Reset the probabilities and visited indices\n",
    "            print('Visited all indices, resetting')\n",
    "            self.visited_indices = set()\n",
    "            self.probabilities = np.ones(self.num_indices) / self.num_indices\n",
    "\n",
    "        # Select an index based on the current probabilities\n",
    "        random_idx = np.random.choice(np.arange(self.num_indices), p=self.probabilities)\n",
    "\n",
    "        # Update the probabilities\n",
    "        self.visited_indices.add(random_idx)\n",
    "        if len(self.visited_indices) < self.num_indices:\n",
    "            self.probabilities[random_idx] = 0\n",
    "            remaining_prob = 1 - np.sum(self.probabilities)\n",
    "            self.probabilities[self.probabilities > 0] += remaining_prob / np.sum(self.probabilities > 0)\n",
    "\n",
    "        return random_idx"
   ]
  },
  {
   "cell_type": "code",
   "execution_count": null,
   "metadata": {},
   "outputs": [],
   "source": [
    "class F1Tenth_navigation:\n",
    "\n",
    "    def __init__(self,gym_env_code='f110_gym:f110-v0', num_agents=1, map_path='./f1tenth_racetracks/Austin/Austin_map', map_ext='.png', sx=0., sy=0., stheta=0., map_centers_file=None, save_path=None, track_name=None, inference=None,reward_file=None,collision_file=None):\n",
    "\n",
    "        # Environment setup\n",
    "        self.env = gym.make(gym_env_code, map=map_path, map_ext=map_ext, num_agents=num_agents, timestep=0.01, integrator=Integrator.RK4)\n",
    "        self.env.add_render_callback(self.render_callback)\n",
    "        self.sx, self.sy, self.stheta = sx, sy, stheta\n",
    "        self.save_path = save_path\n",
    "        self.track_name = track_name\n",
    "        self.num_agents = num_agents\n",
    "        self.map_path = map_path\n",
    "        self.map_ext = map_ext\n",
    "        self.map_centers_file = pd.read_csv(map_centers_file)\n",
    "        self.map_centers_file.columns = ['x', 'y', 'w_r', 'w_l']\n",
    "        self.map_centers_file.index = self.map_centers_file.index.astype(int)\n",
    "        self.map_centers = self.map_centers_file.values[:, :2]\n",
    "        self.reward_file = reward_file\n",
    "        self.collision_file = collision_file\n",
    "\n",
    "        # Random Seed\n",
    "        self.random_seed = 42\n",
    "        np.random.seed(self.random_seed)\n",
    "\n",
    "        # Environment Observation Parameters\n",
    "        self.num_beams = 1080\n",
    "        self.n_features = 12\n",
    "        self.angle = 270\n",
    "\n",
    "        # Action Space Parameters\n",
    "        self.num_angles = 51\n",
    "        self.num_speeds = 10\n",
    "\n",
    "        # LiDAR downsampling parameters\n",
    "        self.n_sectors = 30\n",
    "\n",
    "        # State Space Parameters\n",
    "        self.num_states = 2 ** self.n_features\n",
    "\n",
    "        # Speed Parameters\n",
    "        self.min_speed = 0.8\n",
    "        self.max_speed = 2\n",
    "\n",
    "        # Action Space\n",
    "        self.angles_deg = np.linspace(-self.angle // 2, self.angle // 2, self.num_angles)[::-1]\n",
    "        self.angles = self.convert_deg_to_rad(self.angles_deg)\n",
    "        self.speeds = np.linspace(self.min_speed, self.max_speed, self.num_speeds)\n",
    "    \n",
    "        # State Space - Q-Table\n",
    "        if inference is not None:\n",
    "            self.weights = np.load(inference)\n",
    "            self.num_collisions = int(inference.split('_')[1].split('.')[0])\n",
    "            print(f'Loaded Weights')\n",
    "        else:\n",
    "            self.weights = np.zeros((self.num_states,self.num_angles,self.num_speeds))\n",
    "            self.num_collisions = 0\n",
    "\n",
    "\n",
    "        # ELigibility Trace\n",
    "        self.ET_IS = np.zeros((self.num_states,self.num_angles,self.num_speeds))\n",
    "\n",
    "        # projection matrix\n",
    "        self.projection_matrix = self.generate_projection_matrix()\n",
    "\n",
    "        # binary powers\n",
    "        self.binary_powers = np.array([2 ** i for i in range(self.n_features)])\n",
    "\n",
    "        # Training Variables\n",
    "        self.curr_state = None\n",
    "        self.next_state = None\n",
    "    \n",
    "        \n",
    "        self.action_threshold_decay = 0.999997\n",
    "        self.action_threshold = 0.25 * (self.action_threshold_decay ** self.num_collisions)\n",
    "\n",
    "        # Imported Classes\n",
    "        self.reward_class = Reward(min_speed=self.min_speed, max_speed=self.max_speed, map_centers=self.map_centers)\n",
    "        self.index_selector = IndexSelector(self.map_centers.shape[0])      \n",
    "\n",
    "        # Sarsa Parameters\n",
    "        self.learning_rate = 0.1\n",
    "        self.discount_factor = 0.95\n",
    "        self.decay_rate = 0.9\n",
    "\n",
    "        # Reward\n",
    "        self.reward = 0\n",
    "        self.cumulative_reward = 0\n",
    "        self.episodic_rewards = [0]\n",
    "\n",
    "        # Time\n",
    "        self.collision_times = []\n",
    "        \n",
    "\n",
    "    def render_callback(self, env_renderer):\n",
    "        e = env_renderer\n",
    "        x = e.cars[0].vertices[::2]\n",
    "        y = e.cars[0].vertices[1::2]\n",
    "        top, bottom, left, right = max(y), min(y), min(x), max(x)\n",
    "        e.score_label.x = left\n",
    "        e.score_label.y = top - 700\n",
    "        e.left = left - 800\n",
    "        e.right = right + 800\n",
    "        e.top = top + 800\n",
    "        e.bottom = bottom - 800\n",
    "\n",
    "    def convert_deg_to_rad(self, array):\n",
    "        return array * np.pi / 180\n",
    "    \n",
    "    def get_statistical_properties(self,lidar_input,n_sectors=30):\n",
    "        lidar_input = np.asarray(lidar_input, dtype=np.float32)\n",
    "        sector_size = lidar_input.shape[0] // n_sectors\n",
    "        sectors = lidar_input[:sector_size * n_sectors].reshape(n_sectors, sector_size)\n",
    "        sector_features = np.vstack(\n",
    "            [   np.mean(sectors, axis=1),\n",
    "                np.std(sectors, axis=1),\n",
    "                np.max(sectors, axis=1),\n",
    "                np.min(sectors, axis=1),\n",
    "                np.median(sectors, axis=1),\n",
    "                np.percentile(sectors, 75, axis=1)\n",
    "            ])\n",
    "        return sector_features\n",
    "    \n",
    "    def binarize_vector(self,vector):\n",
    "        minimum,maximum = vector.min(),vector.max()\n",
    "        threshold = minimum + (maximum - minimum)/2\n",
    "        binary_vector = np.where(vector >= threshold,1,0)\n",
    "        return binary_vector\n",
    "    \n",
    "    def generate_projection_matrix(self):\n",
    "        a = (0 - 0.5) / 0.25  \n",
    "        b = (1 - 0.5) / 0.25   \n",
    "        return truncnorm.rvs(a, b, loc=0.5, scale=0.25, size=(self.n_sectors, self.n_features))\n",
    "    \n",
    "    def get_binary_representation(self,lidar_input):\n",
    "        lidar = normalize(self.get_statistical_properties(lidar_input),axis=1)\n",
    "        proj = np.dot(lidar,self.projection_matrix)\n",
    "        binary = self.binarize_vector(proj[0])\n",
    "        return binary.reshape(1,-1)\n",
    "    \n",
    "    def get_state(self, binary):\n",
    "        return np.dot(binary[0], self.binary_powers)\n",
    "    \n",
    "    def selection_action(self, state):\n",
    "        random_number = np.random.rand()\n",
    "        if random_number < self.action_threshold:\n",
    "            angle_index = np.random.randint(0, self.num_angles)\n",
    "            speed_index = np.random.randint(0, self.num_speeds)\n",
    "        else:\n",
    "            flattened = self.weights[state].flatten()\n",
    "            max_value = np.max(flattened)\n",
    "            max_indices = np.where(flattened == max_value)[0]\n",
    "            max_index = np.random.choice(max_indices)\n",
    "            \n",
    "            angle_index, speed_index = np.unravel_index(max_index, self.weights[state].shape)\n",
    "\n",
    "        self.action_threshold *= self.action_threshold_decay\n",
    "\n",
    "        return angle_index, speed_index\n",
    "    \n",
    "    def sarsa_weight_update(self,angle_idx,speed_idx,reward):\n",
    "        self.ET_IS [self.curr_state,angle_idx,speed_idx] = 1\n",
    "\n",
    "        next_angle_idx,next_speed_idx = self.selection_action(self.next_state)\n",
    "        delta = reward + self.discount_factor * self.weights[self.next_state,next_angle_idx,next_speed_idx] - self.weights[self.curr_state,angle_idx,speed_idx]\n",
    "\n",
    "        self.weights += self.learning_rate * delta * self.ET_IS\n",
    "        self.ET_IS *= self.discount_factor * self.decay_rate\n",
    "\n",
    "        return next_angle_idx,next_speed_idx\n",
    "\n",
    "    def save_reward_time(self):\n",
    "        if not os.path.exists(os.path.join(self.save_path, self.track_name)):\n",
    "            os.mkdir(os.path.join(self.save_path, self.track_name))\n",
    "        \n",
    "        if self.reward_file is not None:\n",
    "\n",
    "            r = np.append(np.load(self.reward_file), self.episodic_rewards[-1])\n",
    "            t = np.append(np.load(self.collision_file), self.collision_times[-1])\n",
    "            np.save(os.path.join(self.save_path, self.track_name, f'rewards.npy'), np.array(r))\n",
    "            np.save(os.path.join(self.save_path, self.track_name, f'times.npy'), np.array(t))\n",
    "        else:\n",
    "            np.save(os.path.join(self.save_path, self.track_name, f'rewards.npy'), np.array(self.episodic_rewards))\n",
    "            np.save(os.path.join(self.save_path, self.track_name, f'times.npy'), np.array(self.collision_times))\n",
    "    \n",
    "    def save_weights(self):\n",
    "        if not os.path.exists(os.path.join(self.save_path, self.track_name)):\n",
    "            os.mkdir(os.path.join(self.save_path, self.track_name))\n",
    "        np.save(os.path.join(self.save_path, self.track_name, f'weights_{self.num_collisions + 1}.npy'), self.weights)\n",
    "        # print(f'File saved')\n",
    "\n",
    "\n",
    "    def train(self):\n",
    "        obs, step_reward, done, info = self.env.reset(np.array([[self.sx, self.sy, self.stheta]]))\n",
    "        lidar = obs['scans'][0]\n",
    "        down_sampled = self.get_binary_representation(lidar)\n",
    "        self.curr_state = self.get_state(down_sampled)\n",
    "        self.reward_class.reset(np.array([[self.sx, self.sy]]))\n",
    "        angle_index,speed_index = self.selection_action(self.curr_state)\n",
    "        start_time = time.time()\n",
    "        while True:\n",
    "            steering_angle,speed = self.angles[angle_index],self.speeds[speed_index]\n",
    "            curr_x = obs['poses_x'][0]\n",
    "            curr_y = obs['poses_y'][0]\n",
    "            obs, reward, done, info = self.env.step(np.array([[steering_angle, speed]]))\n",
    "            lidar = obs['scans'][0]\n",
    "            down_sampled = self.get_binary_representation(lidar)\n",
    "            self.next_state = self.get_state(down_sampled)\n",
    "\n",
    "            if done:\n",
    "                self.reward = -100\n",
    "            else:\n",
    "                self.reward = self.reward_class.calculate_reward(np.array([curr_x, curr_y]), np.array([obs['poses_x'][0], obs['poses_y'][0]]))\n",
    "\n",
    "            # print(f'Reward: {self.reward},Curr_state is {self.curr_state},steering angle: {steering_angle}, speed: {speed}')\n",
    "            self.cumulative_reward += self.reward\n",
    "\n",
    "            angle_index,speed_index = self.sarsa_weight_update(angle_index,speed_index,self.reward)\n",
    "            self.curr_state = self.next_state\n",
    "\n",
    "            # Randomize the starting point after collision\n",
    "            if done:\n",
    "                self.num_collisions += 1\n",
    "\n",
    "                # Obtaining a new random position on the track\n",
    "                random_idx = self.index_selector.select_index()\n",
    "                n_x, n_y = self.map_centers[random_idx]\n",
    "                delta_x, delta_y = np.random.uniform(-0.75, 0.75), np.random.uniform(-0.2, 0.2)\n",
    "                n_theta = np.random.choice(self.angles)\n",
    "\n",
    "                # Sensing the new state\n",
    "                obs, step_reward, done, info = self.env.reset(np.array([[n_x + delta_x, n_y + delta_y, n_theta]]))\n",
    "                lidar = obs['scans'][0]\n",
    "                down_sampled = self.get_binary_representation(lidar)\n",
    "                self.curr_state = self.get_state(down_sampled)\n",
    "                angle_index,speed_index = self.selection_action(self.curr_state)\n",
    "\n",
    "                # Resetting \n",
    "                self.reward_class.reset(np.array([[n_x + delta_x, n_y + delta_y]]))\n",
    "                self.ET_IS.fill(0)\n",
    "\n",
    "                # Checkpoint\n",
    "                if (self.num_collisions + 1) % 100 == 0:\n",
    "                    end_time = time.time()\n",
    "                    print(f'Collision: {self.num_collisions+1}, Time: {end_time - start_time}, Reward: {self.cumulative_reward - self.episodic_rewards[-1]}')\n",
    "                    self.collision_times.append(end_time - start_time)\n",
    "                    self.episodic_rewards.append(self.cumulative_reward - self.episodic_rewards[-1])\n",
    "                    self.save_reward_time()\n",
    "                    start_time = end_time\n",
    "                    self.save_weights()\n",
    "\n",
    "                # if (self.num_collisions+1) % 5000 == 0:\n",
    "                #     self.save_weights()\n",
    "\n",
    "            # self.env.render(mode='human')\n",
    "    \n",
    "    def inference(self):\n",
    "        obs, step_reward, done, info = self.env.reset(np.array([[self.sx, self.sy, self.stheta]]))\n",
    "        lidar = obs['scans'][0]\n",
    "        down_sampled = self.get_binary_representation(lidar)\n",
    "        self.curr_state = self.get_state(down_sampled)\n",
    "        self.reward_class.reset(np.array([[self.sx, self.sy]]))\n",
    "        angle_index,speed_index = self.selection_action(self.curr_state)\n",
    "        while not done:\n",
    "            steering_angle,speed = self.angles[angle_index],self.speeds[speed_index]\n",
    "            obs, reward, done, info = self.env.step(np.array([[steering_angle, speed]]))\n",
    "            lidar = obs['scans'][0]\n",
    "            down_sampled = self.get_binary_representation(lidar)\n",
    "            self.next_state = self.get_state(down_sampled)\n",
    "            angle_index,speed_index = self.selection_action(self.next_state)\n",
    "            self.curr_state = self.next_state\n",
    "            \n",
    "            self.env.render(mode='human')"
   ]
  },
  {
   "cell_type": "code",
   "execution_count": 5,
   "metadata": {},
   "outputs": [
    {
     "data": {
      "text/plain": [
       "[('Melbourne', 1060),\n",
       " ('Spielberg', 864),\n",
       " ('Catalunya', 931),\n",
       " ('Zandvoort', 864),\n",
       " ('MoscowRaceway', 813),\n",
       " ('Austin', 1102),\n",
       " ('Mexico City', 860),\n",
       " ('Monza', 1159),\n",
       " ('Hockenheim', 914),\n",
       " ('Spa', 1401),\n",
       " ('SaoPaulo', 862),\n",
       " ('YasMarina', 1110),\n",
       " ('BrandsHatch', 781),\n",
       " ('Shanghai', 1090),\n",
       " ('Nuerburgring', 1029),\n",
       " ('Sakhir', 1082),\n",
       " ('Oschersleben', 739),\n",
       " ('IMS', 805),\n",
       " ('Sepang', 1108),\n",
       " ('Budapest', 876),\n",
       " ('Sochi', 1169),\n",
       " ('Silverstone', 1178),\n",
       " ('Montreal', 872)]"
      ]
     },
     "execution_count": 5,
     "metadata": {},
     "output_type": "execute_result"
    }
   ],
   "source": [
    "path = './f1tenth_racetracks'\n",
    "all_map_paths=[]\n",
    "map_centers = []\n",
    "map_names = []\n",
    "track_lengths=[]\n",
    "for folder in os.listdir(path):\n",
    "    if folder not in ['README.md','.gitignore','convert.py','LICENSE','rename.py','.git']:\n",
    "        folder_name=folder\n",
    "        file_name=folder_name.replace(' ','')+'_map'\n",
    "        map_center = folder_name.replace(' ','')+'_centerline.csv'\n",
    "        track_lengths.append(len(pd.read_csv(f'{path}/{folder_name}/{map_center}')))\n",
    "        map_names.append(folder_name)\n",
    "        all_map_paths.append(f'{path}/{folder_name}/{file_name}')\n",
    "        map_centers.append(f'{path}/{folder_name}/{map_center}')\n",
    "\n",
    "list(zip(map_names,track_lengths))"
   ]
  },
  {
   "cell_type": "code",
   "execution_count": 6,
   "metadata": {},
   "outputs": [
    {
     "name": "stderr",
     "output_type": "stream",
     "text": [
      "/f1tenth_gym/gym/f110_gym/envs/base_classes.py:93: UserWarning: Chosen integrator is RK4. This is different from previous versions of the gym.\n",
      "  warnings.warn(f\"Chosen integrator is RK4. This is different from previous versions of the gym.\")\n"
     ]
    },
    {
     "name": "stdout",
     "output_type": "stream",
     "text": [
      "Loaded Weights\n",
      "Collision: 15750, Time: 1273.576001405716, Reward: 28250.328962915508\n",
      "Collision: 16000, Time: 1040.4004147052765, Reward: 11679.397115175718\n",
      "Collision: 16250, Time: 1517.176308631897, Reward: 75238.75766031792\n",
      "Collision: 16500, Time: 690.4146616458893, Reward: -3637.6688910434896\n",
      "Visited all indices, resetting\n",
      "Collision: 16750, Time: 779.9555969238281, Reward: 69478.65846670054\n",
      "Collision: 17000, Time: 1214.9679245948792, Reward: 26323.120400694184\n",
      "Collision: 17250, Time: 1580.4597208499908, Reward: 135371.11196094158\n",
      "Collision: 17500, Time: 5498.85583281517, Reward: 850165.7135374997\n"
     ]
    },
    {
     "ename": "KeyboardInterrupt",
     "evalue": "",
     "output_type": "error",
     "traceback": [
      "\u001b[0;31m---------------------------------------------------------------------------\u001b[0m",
      "\u001b[0;31mKeyboardInterrupt\u001b[0m                         Traceback (most recent call last)",
      "Cell \u001b[0;32mIn[6], line 17\u001b[0m\n\u001b[1;32m     15\u001b[0m collision_file \u001b[38;5;241m=\u001b[39m \u001b[38;5;124mf\u001b[39m\u001b[38;5;124m'\u001b[39m\u001b[38;5;124m./Weights/\u001b[39m\u001b[38;5;132;01m{\u001b[39;00mmap_name\u001b[38;5;132;01m}\u001b[39;00m\u001b[38;5;124m/times.npy\u001b[39m\u001b[38;5;124m'\u001b[39m\n\u001b[1;32m     16\u001b[0m simulator \u001b[38;5;241m=\u001b[39m F1Tenth_navigation(num_agents\u001b[38;5;241m=\u001b[39mnum_agents,map_path\u001b[38;5;241m=\u001b[39mmap_path,map_ext\u001b[38;5;241m=\u001b[39mmap_ext,sx\u001b[38;5;241m=\u001b[39msx,sy\u001b[38;5;241m=\u001b[39msy,stheta\u001b[38;5;241m=\u001b[39mstheta,map_centers_file\u001b[38;5;241m=\u001b[39mmap_center,save_path\u001b[38;5;241m=\u001b[39msave_path,track_name\u001b[38;5;241m=\u001b[39mmap_name,inference\u001b[38;5;241m=\u001b[39minference_file,reward_file\u001b[38;5;241m=\u001b[39mreward_file,collision_file\u001b[38;5;241m=\u001b[39mcollision_file)\n\u001b[0;32m---> 17\u001b[0m \u001b[43msimulator\u001b[49m\u001b[38;5;241;43m.\u001b[39;49m\u001b[43mtrain\u001b[49m\u001b[43m(\u001b[49m\u001b[43m)\u001b[49m\n\u001b[1;32m     18\u001b[0m \u001b[38;5;66;03m# simulator.inference()\u001b[39;00m\n",
      "Cell \u001b[0;32mIn[4], line 206\u001b[0m, in \u001b[0;36mF1Tenth_navigation.train\u001b[0;34m(self)\u001b[0m\n\u001b[1;32m    204\u001b[0m obs, reward, done, info \u001b[38;5;241m=\u001b[39m \u001b[38;5;28mself\u001b[39m\u001b[38;5;241m.\u001b[39menv\u001b[38;5;241m.\u001b[39mstep(np\u001b[38;5;241m.\u001b[39marray([[steering_angle, speed]]))\n\u001b[1;32m    205\u001b[0m lidar \u001b[38;5;241m=\u001b[39m obs[\u001b[38;5;124m'\u001b[39m\u001b[38;5;124mscans\u001b[39m\u001b[38;5;124m'\u001b[39m][\u001b[38;5;241m0\u001b[39m]\n\u001b[0;32m--> 206\u001b[0m down_sampled \u001b[38;5;241m=\u001b[39m \u001b[38;5;28;43mself\u001b[39;49m\u001b[38;5;241;43m.\u001b[39;49m\u001b[43mget_binary_representation\u001b[49m\u001b[43m(\u001b[49m\u001b[43mlidar\u001b[49m\u001b[43m)\u001b[49m\n\u001b[1;32m    207\u001b[0m \u001b[38;5;28mself\u001b[39m\u001b[38;5;241m.\u001b[39mnext_state \u001b[38;5;241m=\u001b[39m \u001b[38;5;28mself\u001b[39m\u001b[38;5;241m.\u001b[39mget_state(down_sampled)\n\u001b[1;32m    209\u001b[0m \u001b[38;5;28;01mif\u001b[39;00m done:\n",
      "Cell \u001b[0;32mIn[4], line 135\u001b[0m, in \u001b[0;36mF1Tenth_navigation.get_binary_representation\u001b[0;34m(self, lidar_input)\u001b[0m\n\u001b[1;32m    134\u001b[0m \u001b[38;5;28;01mdef\u001b[39;00m \u001b[38;5;21mget_binary_representation\u001b[39m(\u001b[38;5;28mself\u001b[39m,lidar_input):\n\u001b[0;32m--> 135\u001b[0m     lidar \u001b[38;5;241m=\u001b[39m normalize(\u001b[38;5;28;43mself\u001b[39;49m\u001b[38;5;241;43m.\u001b[39;49m\u001b[43mget_statistical_properties\u001b[49m\u001b[43m(\u001b[49m\u001b[43mlidar_input\u001b[49m\u001b[43m)\u001b[49m,axis\u001b[38;5;241m=\u001b[39m\u001b[38;5;241m1\u001b[39m)\n\u001b[1;32m    136\u001b[0m     proj \u001b[38;5;241m=\u001b[39m np\u001b[38;5;241m.\u001b[39mdot(lidar,\u001b[38;5;28mself\u001b[39m\u001b[38;5;241m.\u001b[39mprojection_matrix)\n\u001b[1;32m    137\u001b[0m     binary \u001b[38;5;241m=\u001b[39m \u001b[38;5;28mself\u001b[39m\u001b[38;5;241m.\u001b[39mbinarize_vector(proj[\u001b[38;5;241m0\u001b[39m])\n",
      "Cell \u001b[0;32mIn[4], line 114\u001b[0m, in \u001b[0;36mF1Tenth_navigation.get_statistical_properties\u001b[0;34m(self, lidar_input, n_sectors)\u001b[0m\n\u001b[1;32m    111\u001b[0m sector_size \u001b[38;5;241m=\u001b[39m lidar_input\u001b[38;5;241m.\u001b[39mshape[\u001b[38;5;241m0\u001b[39m] \u001b[38;5;241m/\u001b[39m\u001b[38;5;241m/\u001b[39m n_sectors\n\u001b[1;32m    112\u001b[0m sectors \u001b[38;5;241m=\u001b[39m lidar_input[:sector_size \u001b[38;5;241m*\u001b[39m n_sectors]\u001b[38;5;241m.\u001b[39mreshape(n_sectors, sector_size)\n\u001b[1;32m    113\u001b[0m sector_features \u001b[38;5;241m=\u001b[39m np\u001b[38;5;241m.\u001b[39mvstack(\n\u001b[0;32m--> 114\u001b[0m     [   \u001b[43mnp\u001b[49m\u001b[38;5;241;43m.\u001b[39;49m\u001b[43mmean\u001b[49m\u001b[43m(\u001b[49m\u001b[43msectors\u001b[49m\u001b[43m,\u001b[49m\u001b[43m \u001b[49m\u001b[43maxis\u001b[49m\u001b[38;5;241;43m=\u001b[39;49m\u001b[38;5;241;43m1\u001b[39;49m\u001b[43m)\u001b[49m,\n\u001b[1;32m    115\u001b[0m         np\u001b[38;5;241m.\u001b[39mstd(sectors, axis\u001b[38;5;241m=\u001b[39m\u001b[38;5;241m1\u001b[39m),\n\u001b[1;32m    116\u001b[0m         np\u001b[38;5;241m.\u001b[39mmax(sectors, axis\u001b[38;5;241m=\u001b[39m\u001b[38;5;241m1\u001b[39m),\n\u001b[1;32m    117\u001b[0m         np\u001b[38;5;241m.\u001b[39mmin(sectors, axis\u001b[38;5;241m=\u001b[39m\u001b[38;5;241m1\u001b[39m),\n\u001b[1;32m    118\u001b[0m         np\u001b[38;5;241m.\u001b[39mmedian(sectors, axis\u001b[38;5;241m=\u001b[39m\u001b[38;5;241m1\u001b[39m),\n\u001b[1;32m    119\u001b[0m         np\u001b[38;5;241m.\u001b[39mpercentile(sectors, \u001b[38;5;241m75\u001b[39m, axis\u001b[38;5;241m=\u001b[39m\u001b[38;5;241m1\u001b[39m)\n\u001b[1;32m    120\u001b[0m     ])\n\u001b[1;32m    121\u001b[0m \u001b[38;5;28;01mreturn\u001b[39;00m sector_features\n",
      "File \u001b[0;32m<__array_function__ internals>:179\u001b[0m, in \u001b[0;36mmean\u001b[0;34m(*args, **kwargs)\u001b[0m\n",
      "File \u001b[0;32m/opt/venv/lib/python3.10/site-packages/numpy/core/fromnumeric.py:3351\u001b[0m, in \u001b[0;36m_mean_dispatcher\u001b[0;34m(a, axis, dtype, out, keepdims, where)\u001b[0m\n\u001b[1;32m   3259\u001b[0m \u001b[38;5;250m    \u001b[39m\u001b[38;5;124;03m\"\"\"\u001b[39;00m\n\u001b[1;32m   3260\u001b[0m \u001b[38;5;124;03m    Evenly round to the given number of decimals.\u001b[39;00m\n\u001b[1;32m   3261\u001b[0m \n\u001b[0;32m   (...)\u001b[0m\n\u001b[1;32m   3346\u001b[0m \n\u001b[1;32m   3347\u001b[0m \u001b[38;5;124;03m    \"\"\"\u001b[39;00m\n\u001b[1;32m   3348\u001b[0m     \u001b[38;5;28;01mreturn\u001b[39;00m _wrapfunc(a, \u001b[38;5;124m'\u001b[39m\u001b[38;5;124mround\u001b[39m\u001b[38;5;124m'\u001b[39m, decimals\u001b[38;5;241m=\u001b[39mdecimals, out\u001b[38;5;241m=\u001b[39mout)\n\u001b[0;32m-> 3351\u001b[0m \u001b[38;5;28;01mdef\u001b[39;00m \u001b[38;5;21m_mean_dispatcher\u001b[39m(a, axis\u001b[38;5;241m=\u001b[39m\u001b[38;5;28;01mNone\u001b[39;00m, dtype\u001b[38;5;241m=\u001b[39m\u001b[38;5;28;01mNone\u001b[39;00m, out\u001b[38;5;241m=\u001b[39m\u001b[38;5;28;01mNone\u001b[39;00m, keepdims\u001b[38;5;241m=\u001b[39m\u001b[38;5;28;01mNone\u001b[39;00m, \u001b[38;5;241m*\u001b[39m,\n\u001b[1;32m   3352\u001b[0m                      where\u001b[38;5;241m=\u001b[39m\u001b[38;5;28;01mNone\u001b[39;00m):\n\u001b[1;32m   3353\u001b[0m     \u001b[38;5;28;01mreturn\u001b[39;00m (a, where, out)\n\u001b[1;32m   3356\u001b[0m \u001b[38;5;129m@array_function_dispatch\u001b[39m(_mean_dispatcher)\n\u001b[1;32m   3357\u001b[0m \u001b[38;5;28;01mdef\u001b[39;00m \u001b[38;5;21mmean\u001b[39m(a, axis\u001b[38;5;241m=\u001b[39m\u001b[38;5;28;01mNone\u001b[39;00m, dtype\u001b[38;5;241m=\u001b[39m\u001b[38;5;28;01mNone\u001b[39;00m, out\u001b[38;5;241m=\u001b[39m\u001b[38;5;28;01mNone\u001b[39;00m, keepdims\u001b[38;5;241m=\u001b[39mnp\u001b[38;5;241m.\u001b[39m_NoValue, \u001b[38;5;241m*\u001b[39m,\n\u001b[1;32m   3358\u001b[0m          where\u001b[38;5;241m=\u001b[39mnp\u001b[38;5;241m.\u001b[39m_NoValue):\n",
      "\u001b[0;31mKeyboardInterrupt\u001b[0m: "
     ]
    }
   ],
   "source": [
    "global num_agents,map_path,map_ext,sx,sy,stheta\n",
    "num_agents = 1\n",
    "map_ext = '.png'\n",
    "sx = 0.\n",
    "sy = 0.\n",
    "stheta = 1.0\n",
    "map_index = 0\n",
    "map_path = all_map_paths[map_index]\n",
    "map_center = map_centers[map_index]\n",
    "map_name = map_names[map_index]\n",
    "save_path = './Weights/'\n",
    "# inference_file = None\n",
    "inference_file = f'./Weights/{map_name}/weights_15500.npy'\n",
    "reward_file = f'./Weights/{map_name}/rewards.npy'\n",
    "collision_file = f'./Weights/{map_name}/times.npy'\n",
    "simulator = F1Tenth_navigation(num_agents=num_agents,map_path=map_path,map_ext=map_ext,sx=sx,sy=sy,stheta=stheta,map_centers_file=map_center,save_path=save_path,track_name=map_name,inference=inference_file,reward_file=reward_file,collision_file=collision_file)\n",
    "simulator.train()\n",
    "# simulator.inference()"
   ]
  },
  {
   "cell_type": "markdown",
   "metadata": {},
   "source": [
    "np.save(f'{save_path}{map_name}/weights_17500.npy',simulator.weights)"
   ]
  },
  {
   "cell_type": "code",
   "execution_count": null,
   "metadata": {},
   "outputs": [],
   "source": []
  },
  {
   "cell_type": "code",
   "execution_count": 29,
   "metadata": {},
   "outputs": [],
   "source": [
    "r_path = '/workspaces/f1_tenth/Weights/Melbourne/rewards.npy'\n",
    "t_path = '/workspaces/f1_tenth/Weights/Melbourne/times.npy'\n",
    "# 23b2e5d474d4f00d1c5af7f634a14209a74f0d69"
   ]
  },
  {
   "cell_type": "code",
   "execution_count": 40,
   "metadata": {},
   "outputs": [
    {
     "data": {
      "text/plain": [
       "((28,),\n",
       " array([      0.        , -115248.87833917,  -85135.43007456,\n",
       "        -124206.22959715,   73387.60776476,  -43780.93123158,\n",
       "         -45120.20336094,  -99757.73543359,   -2521.38527203,\n",
       "         -72185.42169025,  -18242.18385293,    4422.3336631 ,\n",
       "         -54151.51850325,   72895.81219267,  -35126.68334495,\n",
       "         -41645.74837891,  -82470.83082186,  -99852.28966159,\n",
       "        -106030.66181396,  383973.70019043,   28250.32896292,\n",
       "          11679.39711518,   75238.75766032,   -3637.66889104,\n",
       "          69478.6584667 ,   26323.12040069,  135371.11196094,\n",
       "         850165.7135375 ]))"
      ]
     },
     "execution_count": 40,
     "metadata": {},
     "output_type": "execute_result"
    }
   ],
   "source": [
    "r = np.load(r_path)\n",
    "r.shape,r"
   ]
  },
  {
   "cell_type": "code",
   "execution_count": 31,
   "metadata": {},
   "outputs": [],
   "source": [
    "reward_set=  set()\n",
    "new_rewards = []\n",
    "for i in range(0,len(r)):\n",
    "    if r[i] not in reward_set:\n",
    "        new_rewards.append(r[i])\n",
    "        reward_set.add(r[i])"
   ]
  },
  {
   "cell_type": "code",
   "execution_count": 33,
   "metadata": {},
   "outputs": [],
   "source": [
    "np.save('/workspaces/f1_tenth/Weights/Melbourne/rewards.npy',np.array(new_rewards))"
   ]
  },
  {
   "cell_type": "code",
   "execution_count": 39,
   "metadata": {},
   "outputs": [
    {
     "data": {
      "text/plain": [
       "((30,),\n",
       " array([1214.89850998, 2044.81393099, 2792.63542533, 4743.1211071 ,\n",
       "         969.57054329,  960.03930712,  894.94210672,  962.77982616,\n",
       "         956.98172593,  867.52583623, 2060.55318642, 1805.92929554,\n",
       "        1400.17881918, 2621.48857522, 1168.68393993, 2318.42638946,\n",
       "        1225.35464692, 1044.23712873,  831.36393619,  660.48105717,\n",
       "        1507.57367516, 5050.75190306, 1273.57600141, 1040.40041471,\n",
       "        1517.17630863,  690.41466165,  779.95559692, 1214.96792459,\n",
       "        1580.45972085, 5498.85583282]))"
      ]
     },
     "execution_count": 39,
     "metadata": {},
     "output_type": "execute_result"
    }
   ],
   "source": [
    "t= np.load(t_path)\n",
    "t.shape,t"
   ]
  },
  {
   "cell_type": "code",
   "execution_count": 35,
   "metadata": {},
   "outputs": [],
   "source": [
    "time_set=  set()\n",
    "new_times = []\n",
    "for i in range(0,len(t)):\n",
    "    if t[i] not in time_set:\n",
    "        new_times.append(t[i])\n",
    "        time_set.add(t[i])"
   ]
  },
  {
   "cell_type": "code",
   "execution_count": 37,
   "metadata": {},
   "outputs": [
    {
     "data": {
      "text/plain": [
       "30"
      ]
     },
     "execution_count": 37,
     "metadata": {},
     "output_type": "execute_result"
    }
   ],
   "source": [
    "len(new_times)"
   ]
  },
  {
   "cell_type": "code",
   "execution_count": 38,
   "metadata": {},
   "outputs": [],
   "source": [
    "np.save('/workspaces/f1_tenth/Weights/Melbourne/times.npy',np.array(new_times))"
   ]
  },
  {
   "cell_type": "code",
   "execution_count": 47,
   "metadata": {},
   "outputs": [
    {
     "data": {
      "image/png": "[encoded data removed]",
      "text/plain": [
       "<Figure size 640x480 with 1 Axes>"
      ]
     },
     "metadata": {},
     "output_type": "display_data"
    }
   ],
   "source": [
    "plt.plot(new_rewards)\n",
    "plt.xlabel('Episodes')\n",
    "plt.xticks(np.arange(0, len(new_rewards), step=1000))\n",
    "plt.ylabel('Reward')\n",
    "plt.title('Reward vs Episodes')\n",
    "plt.show()"
   ]
  },
  {
   "cell_type": "code",
   "execution_count": 48,
   "metadata": {},
   "outputs": [
    {
     "data": {
      "image/png": "[encoded data removed]",
      "text/plain": [
       "<Figure size 640x480 with 1 Axes>"
      ]
     },
     "metadata": {},
     "output_type": "display_data"
    }
   ],
   "source": [
    "plt.plot(new_times)\n",
    "plt.xlabel('Episodes')\n",
    "plt.xticks(np.arange(0, len(new_times), step=1000))\n",
    "plt.ylabel('Time')\n",
    "plt.title('Time vs Episodes')\n",
    "plt.show()"
   ]
  },
  {
   "cell_type": "code",
   "execution_count": null,
   "metadata": {},
   "outputs": [],
   "source": []
  },
  {
   "cell_type": "code",
   "execution_count": null,
   "metadata": {},
   "outputs": [],
   "source": []
  },
  {
   "cell_type": "code",
   "execution_count": null,
   "metadata": {},
   "outputs": [],
   "source": []
  },
  {
   "cell_type": "code",
   "execution_count": null,
   "metadata": {},
   "outputs": [],
   "source": []
  },
  {
   "cell_type": "code",
   "execution_count": null,
   "metadata": {},
   "outputs": [],
   "source": []
  },
  {
   "cell_type": "code",
   "execution_count": null,
   "metadata": {},
   "outputs": [],
   "source": []
  },
  {
   "cell_type": "code",
   "execution_count": null,
   "metadata": {},
   "outputs": [],
   "source": []
  },
  {
   "cell_type": "code",
   "execution_count": null,
   "metadata": {},
   "outputs": [],
   "source": []
  },
  {
   "cell_type": "code",
   "execution_count": null,
   "metadata": {},
   "outputs": [],
   "source": []
  },
  {
   "cell_type": "code",
   "execution_count": null,
   "metadata": {},
   "outputs": [],
   "source": []
  },
  {
   "cell_type": "code",
   "execution_count": null,
   "metadata": {},
   "outputs": [],
   "source": []
  },
  {
   "cell_type": "code",
   "execution_count": null,
   "metadata": {},
   "outputs": [],
   "source": []
  },
  {
   "cell_type": "code",
   "execution_count": null,
   "metadata": {},
   "outputs": [],
   "source": []
  },
  {
   "cell_type": "code",
   "execution_count": null,
   "metadata": {},
   "outputs": [],
   "source": []
  },
  {
   "cell_type": "code",
   "execution_count": null,
   "metadata": {},
   "outputs": [],
   "source": []
  },
  {
   "cell_type": "code",
   "execution_count": null,
   "metadata": {},
   "outputs": [],
   "source": []
  },
  {
   "cell_type": "code",
   "execution_count": null,
   "metadata": {},
   "outputs": [],
   "source": []
  },
  {
   "cell_type": "code",
   "execution_count": null,
   "metadata": {},
   "outputs": [],
   "source": []
  },
  {
   "cell_type": "code",
   "execution_count": null,
   "metadata": {},
   "outputs": [],
   "source": []
  },
  {
   "cell_type": "code",
   "execution_count": null,
   "metadata": {},
   "outputs": [],
   "source": []
  },
  {
   "cell_type": "code",
   "execution_count": null,
   "metadata": {},
   "outputs": [],
   "source": []
  },
  {
   "cell_type": "code",
   "execution_count": null,
   "metadata": {},
   "outputs": [],
   "source": []
  },
  {
   "cell_type": "code",
   "execution_count": null,
   "metadata": {},
   "outputs": [],
   "source": []
  },
  {
   "cell_type": "code",
   "execution_count": null,
   "metadata": {},
   "outputs": [],
   "source": []
  },
  {
   "cell_type": "code",
   "execution_count": null,
   "metadata": {},
   "outputs": [],
   "source": []
  },
  {
   "cell_type": "code",
   "execution_count": null,
   "metadata": {},
   "outputs": [],
   "source": []
  },
  {
   "cell_type": "code",
   "execution_count": null,
   "metadata": {},
   "outputs": [],
   "source": []
  },
  {
   "cell_type": "code",
   "execution_count": null,
   "metadata": {},
   "outputs": [],
   "source": []
  },
  {
   "cell_type": "code",
   "execution_count": null,
   "metadata": {},
   "outputs": [],
   "source": []
  },
  {
   "cell_type": "code",
   "execution_count": null,
   "metadata": {},
   "outputs": [],
   "source": []
  },
  {
   "cell_type": "code",
   "execution_count": null,
   "metadata": {},
   "outputs": [],
   "source": []
  },
  {
   "cell_type": "code",
   "execution_count": null,
   "metadata": {},
   "outputs": [],
   "source": []
  },
  {
   "cell_type": "code",
   "execution_count": null,
   "metadata": {},
   "outputs": [],
   "source": []
  },
  {
   "cell_type": "code",
   "execution_count": null,
   "metadata": {},
   "outputs": [],
   "source": []
  },
  {
   "cell_type": "code",
   "execution_count": null,
   "metadata": {},
   "outputs": [],
   "source": []
  },
  {
   "cell_type": "code",
   "execution_count": null,
   "metadata": {},
   "outputs": [],
   "source": []
  }
 ],
 "metadata": {
  "kernelspec": {
   "display_name": "venv",
   "language": "python",
   "name": "python3"
  },
  "language_info": {
   "codemirror_mode": {
    "name": "ipython",
    "version": 3
   },
   "file_extension": ".py",
   "mimetype": "text/x-python",
   "name": "python",
   "nbconvert_exporter": "python",
   "pygments_lexer": "ipython3",
   "version": "3.10.15"
  }
 },
 "nbformat": 4,
 "nbformat_minor": 2
}
